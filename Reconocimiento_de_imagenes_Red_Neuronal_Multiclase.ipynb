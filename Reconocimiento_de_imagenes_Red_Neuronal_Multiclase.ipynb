{
  "cells": [
    {
      "cell_type": "code",
      "execution_count": null,
      "metadata": {
        "colab": {
          "base_uri": "https://localhost:8080/"
        },
        "id": "zWcBANF9xqyu",
        "outputId": "af753219-2046-4418-ca6c-11143c87a588"
      },
      "outputs": [],
      "source": [
        "from PIL import Image\n",
        "import os\n",
        "import numpy as np\n",
        "\n",
        "# Ruta a la carpeta que contiene las imágenes\n",
        "folder_path = 'animales'\n",
        "\n",
        "# Lista para almacenar las imágenes cargadas\n",
        "image_list = []\n",
        "\n",
        "# Lista para almacenar las categorias por numeros para que la maquina pueda reconocerlos\n",
        "image_diferenciada = []\n",
        "\n",
        "# Recorre todos los archivos de la carpeta\n",
        "for filename in os.listdir(folder_path):\n",
        "\n",
        "    if 'perro' in filename:\n",
        "      image_diferenciada.append(0)\n",
        "    elif 'persona' in filename:\n",
        "      image_diferenciada.append(1)\n",
        "    elif 'hipopotamo' in filename:\n",
        "      image_diferenciada.append(2)\n",
        "\n",
        "    if filename.endswith(\".jpg\") or filename.endswith(\".png\"):\n",
        "        img_path = os.path.join(folder_path, filename) # fucion ruta de la carpeta de las imagenes + el recorrido activo del for filename activamente\n",
        "        img = Image.open(img_path)\n",
        "        img = img.resize((224, 224))  # Redimensiona la imagen\n",
        "        img_array = np.array(img) / 255.0  # Normaliza los valores de píxeles\n",
        "        image_list.append(img_array)\n",
        "        print(f'{filename} | nomralizacion y redimension {np.array(img).shape}')\n",
        "print('')\n",
        "print(f'Lista categorizada => {image_diferenciada}')\n",
        "print(f\"Tamaño de image_list: {len(image_list)}\")\n",
        "print(f\"Tamaño de image_diferenciada: {len(image_diferenciada)}\")\n"
      ]
    },
    {
      "cell_type": "code",
      "execution_count": 48,
      "metadata": {
        "id": "8MTW8trF5_nc"
      },
      "outputs": [],
      "source": [
        "from sklearn.model_selection import train_test_split\n",
        "# test_size=0.2: Indica que el 20% de los datos se utilizarán como conjunto de prueba, y el 80% restante como conjunto de entrenamiento.\n",
        "\n",
        "# generacion de test_size=0.2: Indica que el 20% de los datos se utilizarán como conjunto de prueba, y el 80% restante como conjunto de entrenamiento.\n",
        "\n",
        "# random_state=42: Fija la semilla del generador aleatorio para que la división sea reproducible. El número 42 es arbitrario.\n",
        "\n",
        "X_train, X_test, y_train, y_test = train_test_split(image_list, image_diferenciada, test_size=0.3, random_state=42, stratify=image_diferenciada)"
      ]
    },
    {
      "cell_type": "code",
      "execution_count": null,
      "metadata": {
        "colab": {
          "base_uri": "https://localhost:8080/"
        },
        "id": "biY98_wpyJkL",
        "outputId": "35b5545a-53ad-4a29-dd48-42d67d99252a"
      },
      "outputs": [],
      "source": [
        "import keras\n",
        "from keras.models import Sequential # type: ignore\n",
        "from keras.layers import Dense, Flatten # type: ignore\n",
        "\n",
        "#Se establece una semilla para evitar distintos resultados\n",
        "keras.utils.set_random_seed(812)\n",
        "#Se establece un modelo neuronal\n",
        "model = Sequential()\n",
        "model.add(Flatten(input_shape=(224, 224, 3)))  # Aplanar la imagen\n",
        "model.add(Dense(128, activation='relu'))\n",
        "model.add(Dense(64, activation='relu'))\n",
        "model.add(Dense(3, activation='softmax')) #3 es el numero de clases"
      ]
    },
    {
      "cell_type": "code",
      "execution_count": 50,
      "metadata": {
        "id": "u19SSag11MwI"
      },
      "outputs": [],
      "source": [
        "#Se compila el modelo\n",
        "model.compile(optimizer='adam', loss='categorical_crossentropy', metrics=['accuracy'])"
      ]
    },
    {
      "cell_type": "code",
      "execution_count": null,
      "metadata": {
        "colab": {
          "base_uri": "https://localhost:8080/"
        },
        "id": "ZRrMbH02_AHZ",
        "outputId": "ad6408f9-0bea-44a9-9825-a6b204791a30"
      },
      "outputs": [],
      "source": [
        "#Verificamos la estructura de salida esperada para entrenamiento\n",
        "y_train"
      ]
    },
    {
      "cell_type": "code",
      "execution_count": null,
      "metadata": {
        "colab": {
          "base_uri": "https://localhost:8080/"
        },
        "id": "UDVdQZAzMzdv",
        "outputId": "2c211748-febe-44e9-fd9b-88be87d0a3f3"
      },
      "outputs": [],
      "source": [
        "#Verificamos shape de imagenes\n",
        "import numpy as np\n",
        "\n",
        "for i, image in enumerate(X_train):\n",
        "    print(f\"Shape of image {i}: {np.array(image).shape}\")"
      ]
    },
    {
      "cell_type": "code",
      "execution_count": 53,
      "metadata": {
        "id": "oCmeZdqx13Ux"
      },
      "outputs": [],
      "source": [
        "#Cambiamos la forma\n",
        "X_train = np.array(X_train)\n",
        "y_train = np.array(y_train)"
      ]
    },
    {
      "cell_type": "code",
      "execution_count": null,
      "metadata": {
        "colab": {
          "base_uri": "https://localhost:8080/"
        },
        "id": "PwObnNS67_vs",
        "outputId": "74a24573-0817-4647-95b6-8dad96a14e64"
      },
      "outputs": [],
      "source": [
        "y_train = keras.utils.to_categorical(y_train, num_classes=3)\n",
        "y_train"
      ]
    },
    {
      "cell_type": "code",
      "execution_count": null,
      "metadata": {
        "colab": {
          "base_uri": "https://localhost:8080/"
        },
        "id": "-FBSpnvC7dAw",
        "outputId": "1aa565ac-b95a-47a1-8f30-2f91db9a3809"
      },
      "outputs": [],
      "source": [
        "X_train.shape"
      ]
    },
    {
      "cell_type": "code",
      "execution_count": null,
      "metadata": {
        "colab": {
          "base_uri": "https://localhost:8080/"
        },
        "id": "ycXQvZgaEl_i",
        "outputId": "eb99a63b-7376-4750-a93b-602e1df0485a"
      },
      "outputs": [],
      "source": [
        "#Verificamos el cambio\n",
        "y_train"
      ]
    },
    {
      "cell_type": "code",
      "execution_count": null,
      "metadata": {
        "colab": {
          "base_uri": "https://localhost:8080/"
        },
        "id": "qQr61Xd6FXrD",
        "outputId": "0d40e8e0-6ad1-4ca1-9112-5412c3121a24"
      },
      "outputs": [],
      "source": [
        "y_train.shape"
      ]
    },
    {
      "cell_type": "code",
      "execution_count": null,
      "metadata": {
        "colab": {
          "base_uri": "https://localhost:8080/"
        },
        "id": "HYn4V3TRyfWg",
        "outputId": "e82422ec-0e0f-44d6-8411-1a4ddf97eeeb"
      },
      "outputs": [],
      "source": [
        "# Ajustamos(\"Entrenamos\") el modelo al conjunto de datos cada que se ejecuta este; el modelo nos devulve el accuracy mas preciso; La pérdida (loss) es una medida ve que tan mal está el modelo en esa época. Un valor de 1.1341 indica cuán lejos está el modelo de las predicciones correctas, basándose en la función de pérdida que estás utilizando (en este caso, categorical_crossentropy).\n",
        "\n",
        "%time model.fit(X_train,y_train,epochs=20)"
      ]
    },
    {
      "cell_type": "code",
      "execution_count": null,
      "metadata": {
        "colab": {
          "base_uri": "https://localhost:8080/"
        },
        "id": "dYJhtwVZFtEY",
        "outputId": "4cc556dd-9855-478e-c4a1-ab9c412c5bab"
      },
      "outputs": [],
      "source": [
        "%time y_train"
      ]
    },
    {
      "cell_type": "code",
      "execution_count": null,
      "metadata": {
        "colab": {
          "base_uri": "https://localhost:8080/"
        },
        "id": "eMHp7F8L2ApJ",
        "outputId": "7196e391-b3de-4e5e-d451-8dce3471f3f3"
      },
      "outputs": [],
      "source": [
        "import numpy as np\n",
        "\n",
        "# Investigate the shapes of elements within X_test\n",
        "for i, item in enumerate(X_test):\n",
        "    print(f\"Shape of item {i}: {np.array(item).shape}\")\n",
        "\n",
        "# Option 1: Pad images with fewer channels (if applicable)\n",
        "target_channels = 3  # Set the desired number of channels\n",
        "X_test_padded = []\n",
        "for item in X_test:\n",
        "    item_array = np.array(item)\n",
        "    if item_array.shape[-1] < target_channels:\n",
        "        padding_needed = target_channels - item_array.shape[-1]\n",
        "        padding = [(0, 0)] * (item_array.ndim - 1) + [(0, padding_needed)]\n",
        "        item_padded = np.pad(item_array, padding, mode='constant')\n",
        "        X_test_padded.append(item_padded)\n",
        "    else:\n",
        "        X_test_padded.append(item_array)\n",
        "\n",
        "X_test = np.array(X_test_padded)\n",
        "y_test = np.array(y_test)\n"
      ]
    },
    {
      "cell_type": "code",
      "execution_count": 61,
      "metadata": {
        "id": "gz71gRcN2ijO"
      },
      "outputs": [],
      "source": [
        "if len(y_test.shape) == 0:\n",
        "    y_test = y_test.reshape(1,)"
      ]
    },
    {
      "cell_type": "code",
      "execution_count": null,
      "metadata": {
        "colab": {
          "base_uri": "https://localhost:8080/"
        },
        "id": "Qv6Uh2q-2xEv",
        "outputId": "0f4a9603-7cb1-482a-c6b6-ad0d77da91f4"
      },
      "outputs": [],
      "source": [
        "print(y_test.shape)\n",
        "print(X_test.shape)"
      ]
    },
    {
      "cell_type": "code",
      "execution_count": null,
      "metadata": {
        "colab": {
          "base_uri": "https://localhost:8080/"
        },
        "id": "BgVZsICC9vxj",
        "outputId": "189d2e29-26f1-454c-90b3-6b6e8ee9c8cb"
      },
      "outputs": [],
      "source": [
        "# Verificamos su forma\n",
        "y_test"
      ]
    },
    {
      "cell_type": "code",
      "execution_count": null,
      "metadata": {
        "colab": {
          "base_uri": "https://localhost:8080/"
        },
        "id": "LlSLfNRD98x5",
        "outputId": "f264a7ee-ee45-4df6-a8d3-96e4f5b0a931"
      },
      "outputs": [],
      "source": [
        "# Usamos el modelo para predecir con el conjunto de prueba\n",
        "y_pred = model.predict(X_test) # Esto genera una salida predicha"
      ]
    },
    {
      "cell_type": "code",
      "execution_count": null,
      "metadata": {
        "colab": {
          "base_uri": "https://localhost:8080/"
        },
        "id": "CGPzEEj6_Nu0",
        "outputId": "e2ceadea-bbad-49d2-b402-a1d6acaa4c94"
      },
      "outputs": [],
      "source": [
        "#Revisamos el resultado\n",
        "y_pred"
      ]
    },
    {
      "cell_type": "code",
      "execution_count": null,
      "metadata": {
        "colab": {
          "base_uri": "https://localhost:8080/"
        },
        "id": "_3T_hP0p_PRS",
        "outputId": "7ddb1d87-53ca-47ad-ffdc-378f7cf53d6d"
      },
      "outputs": [],
      "source": [
        "#Redondeamos los resultados\n",
        "y_pred=np.round(y_pred)\n",
        "y_pred"
      ]
    },
    {
      "cell_type": "code",
      "execution_count": null,
      "metadata": {
        "colab": {
          "base_uri": "https://localhost:8080/"
        },
        "id": "Vg3bzFOx3TzI",
        "outputId": "51892465-0fec-4656-dbaf-8b1062bea982"
      },
      "outputs": [],
      "source": [
        "import pandas as pd\n",
        "from sklearn.metrics import confusion_matrix, accuracy_score, precision_score, recall_score, f1_score, roc_auc_score, mean_absolute_error, mean_squared_error, r2_score\n",
        "\n",
        "\n",
        "y_pred = np.argmax(y_pred, axis=1)\n",
        "# Accuracy\n",
        "# Métricas de clasificación\n",
        "conf_matrix = confusion_matrix(y_test, y_pred)\n",
        "accuracy = accuracy_score(y_test, y_pred)\n",
        "\n",
        "# Calculamos precision, recall y f1 para cada clase\n",
        "precision = precision_score(y_test, y_pred, average=None)\n",
        "precision_avg = precision_score(y_test, y_pred, average=\"macro\")\n",
        "recall = recall_score(y_test, y_pred, average=None)\n",
        "recall_avg = recall_score(y_test, y_pred, average=\"macro\")\n",
        "f1 = f1_score(y_test, y_pred, average=None)\n",
        "f1_avg = f1_score(y_test, y_pred, average=\"macro\")\n",
        "print(f\"Exactitud: {accuracy}\")\n",
        "print(f\"Precisión por clase: {precision} -> {precision_avg}\")\n",
        "print(f\"Sensibilidad por clase: {recall} -> {recall_avg}\")\n",
        "print(f\"F1 Score por clase: {f1} -> {f1_avg}\")"
      ]
    },
    {
      "cell_type": "code",
      "execution_count": null,
      "metadata": {
        "colab": {
          "base_uri": "https://localhost:8080/",
          "height": 473
        },
        "id": "KveMc-tq9TRR",
        "outputId": "616c3f3c-fa16-4e56-ef86-a3ff93183269"
      },
      "outputs": [],
      "source": [
        "from sklearn.metrics import ConfusionMatrixDisplay\n",
        "cm = confusion_matrix(y_test, y_pred)\n",
        "disp = ConfusionMatrixDisplay(confusion_matrix=cm)\n",
        "disp.display_labels = ['Perro','Persona','Hipopotamo']\n",
        "disp.plot()"
      ]
    },
    {
      "cell_type": "code",
      "execution_count": null,
      "metadata": {
        "colab": {
          "base_uri": "https://localhost:8080/"
        },
        "id": "FhQ8yW47-vbD",
        "outputId": "d9fee21a-4b9e-412c-8d90-65660cff01b9"
      },
      "outputs": [],
      "source": [
        "y_test"
      ]
    },
    {
      "cell_type": "code",
      "execution_count": null,
      "metadata": {
        "colab": {
          "base_uri": "https://localhost:8080/"
        },
        "id": "DnTpIIx--9s2",
        "outputId": "5ff3d32e-5720-4b94-ec68-280b83006b40"
      },
      "outputs": [],
      "source": [
        "y_pred"
      ]
    },
    {
      "cell_type": "code",
      "execution_count": null,
      "metadata": {
        "colab": {
          "base_uri": "https://localhost:8080/"
        },
        "id": "myHdj9yB_BjU",
        "outputId": "ac56856b-3396-4999-b9f1-90c58f1438ea"
      },
      "outputs": [],
      "source": [
        "X_test[2]"
      ]
    },
    {
      "cell_type": "code",
      "execution_count": null,
      "metadata": {
        "colab": {
          "base_uri": "https://localhost:8080/",
          "height": 452
        },
        "id": "-YI2czCp_G27",
        "outputId": "7759c3f5-6662-4d58-8707-5157801d61c3"
      },
      "outputs": [],
      "source": [
        "import matplotlib.pyplot as plt\n",
        "img_array = (X_test[2] * 255).astype(np.uint8)  # escala de 0-255 y conversion a 8-bit integer\n",
        "img = Image.fromarray(img_array)\n",
        "plt.imshow(img)"
      ]
    },
    {
      "cell_type": "code",
      "execution_count": null,
      "metadata": {},
      "outputs": [],
      "source": [
        "import numpy as np\n",
        "from sklearn.metrics import confusion_matrix, accuracy_score, precision_score, recall_score, f1_score \n",
        "from tkinter import filedialog\n",
        "from PIL import Image\n",
        "\n",
        "# Abrir el cuadro de diálogo de archivos para seleccionar la imagen\n",
        "ruta_imagen = filedialog.askopenfilename(\n",
        "    title=\"Seleccionar imagen\",\n",
        "    filetypes=[(\"Imágenes\", \"*.png *.jpg\")]\n",
        ")\n",
        "\n",
        "print(f\"Has seleccionado la imagen: {ruta_imagen}\")\n",
        "\n",
        "# Cargar la imagen seleccionada y preprocesarla\n",
        "img = Image.open(ruta_imagen)  # Cambia el tamaño según lo que usaste para entrenar el modelo\n",
        "img = img.resize((224, 224)) # Redimensiona la imagen\n",
        "img_array = np.array(img) / 255.0  # Convertir la imagen a un array numpy\n",
        "img_array = np.expand_dims(img_array, axis=0)  # Añadir una dimensión extra para que tenga forma (1, 224, 224, 3)\n",
        "\n",
        "# Hacer la predicción usando el modelo entrenado\n",
        "prediccion = model.predict(img_array)\n",
        "\n",
        "# Decodificar la predicción\n",
        "clases = ['perro', 'persona', 'hipopotamo']  # Ajusta según las clases de tu modelo\n",
        "prediccion_clase = np.argmax(prediccion, axis=1)  # Obtener la clase con mayor probabilidad\n",
        "\n",
        "# Mostrar la predicción\n",
        "print(f\"Predicción: {clases[prediccion_clase[0]]}\")\n",
        "\n",
        "# Opcional: Métricas de evaluación si tienes etiquetas reales y predicciones (si estás evaluando un conjunto de prueba)\n",
        "# Nota: Esto se usa para evaluación después del entrenamiento, no durante la predicción individual de una imagen.\n",
        "y_pred = model.predict(X_test)  # Usado para un conjunto de prueba con etiquetas\n",
        "y_test = [...]  # Si tienes las etiquetas reales del conjunto de prueba\n",
        "\n",
        "# Métricas (descomentar si quieres usarlas)\n",
        "# print(f\"Accuracy: {accuracy_score(y_test, y_pred)}\")\n",
        "# print(f\"Precision: {precision_score(y_test, y_pred, average='macro')}\")\n",
        "# print(f\"Recall: {recall_score(y_test, y_pred, average='macro')}\")\n",
        "# print(f\"F1 Score: {f1_score(y_test, y_pred, average='macro')}\")\n"
      ]
    },
    {
      "cell_type": "code",
      "execution_count": 21,
      "metadata": {},
      "outputs": [
        {
          "name": "stdout",
          "output_type": "stream",
          "text": [
            "deque([1, 2])\n"
          ]
        }
      ],
      "source": [
        "from collections import deque\n",
        "\n",
        "pila = deque()\n",
        "\n",
        "pila.append(1)\n",
        "pila.append(2)\n",
        "\n",
        "esta_vacia = len(pila) == 0\n",
        "\n",
        "print(pila)"
      ]
    },
    {
      "cell_type": "code",
      "execution_count": 86,
      "metadata": {},
      "outputs": [],
      "source": [
        "from collections import deque\n",
        "\n",
        "pila = deque()\n",
        "\n",
        "def df_pila(grafo):\n",
        "\n",
        "    visitados = set()\n",
        "\n",
        "    for vecino in grafo:\n",
        "\n",
        "        if vecino not in visitados:\n",
        "            \n",
        "            visitados.add(vecino)\n",
        "\n",
        "            print(f'vueltas => {vecino} inicion => {pila} se agregaron las vueltas a {visitados} data de grafo => {grafo[vecino]}')\n",
        "\n",
        "            pila.append(grafo[vecino])\n",
        "    \n",
        "    return f'cantidad de duque: {len(pila)} lista con los datos de los grafos: {pila}'"
      ]
    },
    {
      "cell_type": "code",
      "execution_count": 87,
      "metadata": {},
      "outputs": [
        {
          "name": "stdout",
          "output_type": "stream",
          "text": [
            "vueltas => 1 inicion => deque([]) se agregaron las vueltas a {1} data de grafo => [2, 3]\n",
            "vueltas => 2 inicion => deque([[2, 3]]) se agregaron las vueltas a {1, 2} data de grafo => [4, 5]\n",
            "vueltas => 3 inicion => deque([[2, 3], [4, 5]]) se agregaron las vueltas a {1, 2, 3} data de grafo => [6, 'arbol']\n",
            "vueltas => 4 inicion => deque([[2, 3], [4, 5], [6, 'arbol']]) se agregaron las vueltas a {1, 2, 3, 4} data de grafo => []\n",
            "vueltas => 5 inicion => deque([[2, 3], [4, 5], [6, 'arbol'], []]) se agregaron las vueltas a {1, 2, 3, 4, 5} data de grafo => []\n",
            "vueltas => 6 inicion => deque([[2, 3], [4, 5], [6, 'arbol'], [], []]) se agregaron las vueltas a {1, 2, 3, 4, 5, 6} data de grafo => []\n"
          ]
        },
        {
          "data": {
            "text/plain": [
              "\"cantidad de duque: 6 lista con los datos de los grafos: deque([[2, 3], [4, 5], [6, 'arbol'], [], [], []])\""
            ]
          },
          "execution_count": 87,
          "metadata": {},
          "output_type": "execute_result"
        }
      ],
      "source": [
        "grafo= {\n",
        "    1: [2, 3],\n",
        "    2: [4, 5],\n",
        "    3: [6, 'arbol'],\n",
        "    4: [],\n",
        "    5: [],\n",
        "    6: [],\n",
        "}\n",
        "\n",
        "df_pila(grafo)"
      ]
    }
  ],
  "metadata": {
    "colab": {
      "provenance": []
    },
    "kernelspec": {
      "display_name": ".venv",
      "language": "python",
      "name": "python3"
    },
    "language_info": {
      "codemirror_mode": {
        "name": "ipython",
        "version": 3
      },
      "file_extension": ".py",
      "mimetype": "text/x-python",
      "name": "python",
      "nbconvert_exporter": "python",
      "pygments_lexer": "ipython3",
      "version": "3.12.5"
    }
  },
  "nbformat": 4,
  "nbformat_minor": 0
}
